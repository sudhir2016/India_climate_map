{
  "nbformat": 4,
  "nbformat_minor": 0,
  "metadata": {
    "colab": {
      "name": "India_climate_map",
      "provenance": [],
      "collapsed_sections": [],
      "authorship_tag": "ABX9TyPn+66bIfuxxxxfrre+a+7I",
      "include_colab_link": true
    },
    "kernelspec": {
      "name": "python3",
      "display_name": "Python 3"
    }
  },
  "cells": [
    {
      "cell_type": "markdown",
      "metadata": {
        "id": "view-in-github",
        "colab_type": "text"
      },
      "source": [
        "<a href=\"https://colab.research.google.com/github/sudhir2016/India_climate_map/blob/master/India_climate_map.ipynb\" target=\"_parent\"><img src=\"https://colab.research.google.com/assets/colab-badge.svg\" alt=\"Open In Colab\"/></a>"
      ]
    },
    {
      "cell_type": "markdown",
      "metadata": {
        "id": "F5g55Ni4CEyz",
        "colab_type": "text"
      },
      "source": [
        "Install Geopandas,Rasterio and rioxarray."
      ]
    },
    {
      "cell_type": "code",
      "metadata": {
        "id": "MMYJWy4RCFiB",
        "colab_type": "code",
        "colab": {}
      },
      "source": [
        "!pip install geopandas"
      ],
      "execution_count": null,
      "outputs": []
    },
    {
      "cell_type": "code",
      "metadata": {
        "id": "c8UzKYNrg5my",
        "colab_type": "code",
        "colab": {}
      },
      "source": [
        "!pip install rasterio"
      ],
      "execution_count": null,
      "outputs": []
    },
    {
      "cell_type": "code",
      "metadata": {
        "id": "g2eiBCJAg8I3",
        "colab_type": "code",
        "colab": {}
      },
      "source": [
        "!pip install rioxarray"
      ],
      "execution_count": null,
      "outputs": []
    },
    {
      "cell_type": "markdown",
      "metadata": {
        "id": "68voRx_6C0PD",
        "colab_type": "text"
      },
      "source": [
        "Import various libraries."
      ]
    },
    {
      "cell_type": "code",
      "metadata": {
        "id": "WWjDBctjgvnX",
        "colab_type": "code",
        "colab": {}
      },
      "source": [
        "import numpy as np\n",
        "import matplotlib as mpl\n",
        "import matplotlib.pyplot as plt\n",
        "import pandas as pd\n",
        "import geopandas as gpd\n",
        "import fiona as fn\n",
        "import rasterio as rio\n",
        "import xarray as xa\n",
        "import rioxarray as rioxa\n",
        "from rasterio import mask\n",
        "from sklearn.cluster import KMeans"
      ],
      "execution_count": 80,
      "outputs": []
    },
    {
      "cell_type": "markdown",
      "metadata": {
        "id": "hmHRVwo5C5om",
        "colab_type": "text"
      },
      "source": [
        "Mount Google Drive as the climate data is saved there."
      ]
    },
    {
      "cell_type": "code",
      "metadata": {
        "id": "KxLvJN06hKLr",
        "colab_type": "code",
        "colab": {}
      },
      "source": [
        "from google.colab import drive"
      ],
      "execution_count": 81,
      "outputs": []
    },
    {
      "cell_type": "code",
      "metadata": {
        "id": "lQIMZrKWll-n",
        "colab_type": "code",
        "colab": {}
      },
      "source": [
        "drive.mount(\"/content/drive\")"
      ],
      "execution_count": null,
      "outputs": []
    },
    {
      "cell_type": "markdown",
      "metadata": {
        "id": "ISXS-FFxDPmE",
        "colab_type": "text"
      },
      "source": [
        "Load climate data."
      ]
    },
    {
      "cell_type": "code",
      "metadata": {
        "id": "LaSSzAShh0ur",
        "colab_type": "code",
        "colab": {}
      },
      "source": [
        "data='/content/drive/My Drive/adaptor.mars.internal-1599570962.375764-24582-1-fe6db266-a043-47ab-b3c2-5f6f4072408a.nc'"
      ],
      "execution_count": 83,
      "outputs": []
    },
    {
      "cell_type": "markdown",
      "metadata": {
        "id": "iA__iCb3DZGe",
        "colab_type": "text"
      },
      "source": [
        "Open dataset using Xarray."
      ]
    },
    {
      "cell_type": "code",
      "metadata": {
        "id": "apLkKLvtkhZP",
        "colab_type": "code",
        "colab": {}
      },
      "source": [
        "x=xa.open_dataset(data)"
      ],
      "execution_count": 84,
      "outputs": []
    },
    {
      "cell_type": "markdown",
      "metadata": {
        "id": "FaFcQsFYDla8",
        "colab_type": "text"
      },
      "source": [
        "Set crs as epsg 4326."
      ]
    },
    {
      "cell_type": "code",
      "metadata": {
        "id": "X4_TGw7Dk12A",
        "colab_type": "code",
        "colab": {}
      },
      "source": [
        "x.rio.set_crs('epsg:4326')"
      ],
      "execution_count": null,
      "outputs": []
    },
    {
      "cell_type": "markdown",
      "metadata": {
        "id": "EcQ4i2cyDweU",
        "colab_type": "text"
      },
      "source": [
        "Create and open tif files for precipitation and temp."
      ]
    },
    {
      "cell_type": "code",
      "metadata": {
        "id": "ADECgpm2mcGF",
        "colab_type": "code",
        "colab": {}
      },
      "source": [
        "pays='india'"
      ],
      "execution_count": 86,
      "outputs": []
    },
    {
      "cell_type": "code",
      "metadata": {
        "id": "PaOdSXnFnz0H",
        "colab_type": "code",
        "colab": {}
      },
      "source": [
        "x['tp'].rio.to_raster('{}_tp.tif'.format(pays))"
      ],
      "execution_count": 87,
      "outputs": []
    },
    {
      "cell_type": "code",
      "metadata": {
        "id": "pT42v0Gyou8Z",
        "colab_type": "code",
        "colab": {}
      },
      "source": [
        "x['t2m'].rio.to_raster('{}_t2m.tif'.format(pays))"
      ],
      "execution_count": 88,
      "outputs": []
    },
    {
      "cell_type": "code",
      "metadata": {
        "id": "gxokIvKJtXya",
        "colab_type": "code",
        "colab": {}
      },
      "source": [
        "tp=rio.open('{}_tp.tif'.format(pays))"
      ],
      "execution_count": 89,
      "outputs": []
    },
    {
      "cell_type": "code",
      "metadata": {
        "id": "pvEO67fYtxDj",
        "colab_type": "code",
        "colab": {}
      },
      "source": [
        "t2m=rio.open('{}_t2m.tif'.format(pays))"
      ],
      "execution_count": 90,
      "outputs": []
    },
    {
      "cell_type": "markdown",
      "metadata": {
        "id": "EY7WjfsxEtrY",
        "colab_type": "text"
      },
      "source": [
        "Read India Geojason file and use it to mask the precipitation and temp data."
      ]
    },
    {
      "cell_type": "code",
      "metadata": {
        "id": "pv6Qk9jj5HFU",
        "colab_type": "code",
        "colab": {}
      },
      "source": [
        "india='/content/India.json'"
      ],
      "execution_count": 91,
      "outputs": []
    },
    {
      "cell_type": "code",
      "metadata": {
        "id": "AaQCv5T75Qnd",
        "colab_type": "code",
        "colab": {}
      },
      "source": [
        "map=gpd.read_file(india)"
      ],
      "execution_count": 92,
      "outputs": []
    },
    {
      "cell_type": "code",
      "metadata": {
        "id": "c_zlXIzp5fw9",
        "colab_type": "code",
        "colab": {}
      },
      "source": [
        "map.plot()"
      ],
      "execution_count": null,
      "outputs": []
    },
    {
      "cell_type": "code",
      "metadata": {
        "id": "nRXs_NQ16wsH",
        "colab_type": "code",
        "colab": {}
      },
      "source": [
        "with fn.open(india,'r') as shapefile:\n",
        "  shapes=[feature['geometry'] for feature in shapefile]"
      ],
      "execution_count": 94,
      "outputs": []
    },
    {
      "cell_type": "code",
      "metadata": {
        "id": "ImAJSwje7qon",
        "colab_type": "code",
        "colab": {}
      },
      "source": [
        "tp,tp_transform=rio.mask.mask(tp,shapes,crop=True)"
      ],
      "execution_count": 95,
      "outputs": []
    },
    {
      "cell_type": "code",
      "metadata": {
        "id": "faPu-N118wCm",
        "colab_type": "code",
        "colab": {}
      },
      "source": [
        "t2m,t2m_transform=rio.mask.mask(t2m,shapes,crop=True)"
      ],
      "execution_count": 96,
      "outputs": []
    },
    {
      "cell_type": "markdown",
      "metadata": {
        "id": "wGvCByOFFGat",
        "colab_type": "text"
      },
      "source": [
        "Extract precipitation and temp data as array and reshape it to suit KMeans."
      ]
    },
    {
      "cell_type": "code",
      "metadata": {
        "id": "FLlG1xVGIBO9",
        "colab_type": "code",
        "colab": {
          "base_uri": "https://localhost:8080/",
          "height": 34
        },
        "outputId": "58a0d98d-a700-4c9e-f5dd-c5318265cba8"
      },
      "source": [
        "l=tp.shape[0]\n",
        "h=tp.shape[1]\n",
        "w=tp.shape[2]\n",
        "print(l,h,w)"
      ],
      "execution_count": 97,
      "outputs": [
        {
          "output_type": "stream",
          "text": [
            "474 276 259\n"
          ],
          "name": "stdout"
        }
      ]
    },
    {
      "cell_type": "code",
      "metadata": {
        "id": "RHURUJD_QJQe",
        "colab_type": "code",
        "colab": {}
      },
      "source": [
        "c=np.zeros((h,w,2*l))"
      ],
      "execution_count": 98,
      "outputs": []
    },
    {
      "cell_type": "code",
      "metadata": {
        "id": "JCwNECJiTMVx",
        "colab_type": "code",
        "colab": {}
      },
      "source": [
        "for j in range (h):\n",
        "  for k in range (w):\n",
        "    c[j,k,:l]=tp[:,j,k]\n",
        "    c[j,k,l:]=t2m[:,j,k]"
      ],
      "execution_count": 99,
      "outputs": []
    },
    {
      "cell_type": "code",
      "metadata": {
        "id": "af1uBU4nXPew",
        "colab_type": "code",
        "colab": {}
      },
      "source": [
        "img=c[:,:,:].reshape((c.shape[0]*c.shape[1],c.shape[2]))"
      ],
      "execution_count": 100,
      "outputs": []
    },
    {
      "cell_type": "code",
      "metadata": {
        "id": "f_zmvmxEi1kk",
        "colab_type": "code",
        "colab": {}
      },
      "source": [
        "img.shape"
      ],
      "execution_count": null,
      "outputs": []
    },
    {
      "cell_type": "markdown",
      "metadata": {
        "id": "vRL8gpXmFdqF",
        "colab_type": "text"
      },
      "source": [
        "Run KMeans with number of clusters as 6."
      ]
    },
    {
      "cell_type": "code",
      "metadata": {
        "id": "h14N094nY0go",
        "colab_type": "code",
        "colab": {}
      },
      "source": [
        "k=KMeans(n_clusters=5)"
      ],
      "execution_count": 102,
      "outputs": []
    },
    {
      "cell_type": "code",
      "metadata": {
        "id": "Yk8kN9FFZKSO",
        "colab_type": "code",
        "colab": {}
      },
      "source": [
        "y=k.fit_predict(img)"
      ],
      "execution_count": 103,
      "outputs": []
    },
    {
      "cell_type": "code",
      "metadata": {
        "id": "5QBIFkWQgxtN",
        "colab_type": "code",
        "colab": {}
      },
      "source": [
        "k.cluster_centers_"
      ],
      "execution_count": null,
      "outputs": []
    },
    {
      "cell_type": "markdown",
      "metadata": {
        "id": "wxysbCFuFpdb",
        "colab_type": "text"
      },
      "source": [
        "Extract labels, reshape and visualize."
      ]
    },
    {
      "cell_type": "code",
      "metadata": {
        "id": "QZ-rp3c9Zz5s",
        "colab_type": "code",
        "colab": {}
      },
      "source": [
        "lab=k.labels_\n",
        "print(lab)"
      ],
      "execution_count": null,
      "outputs": []
    },
    {
      "cell_type": "code",
      "metadata": {
        "id": "iufIH-r_zlM7",
        "colab_type": "code",
        "colab": {}
      },
      "source": [
        "lab=lab.reshape(( c[:,:,:].shape[0],c[:,:,:].shape[1]))"
      ],
      "execution_count": 107,
      "outputs": []
    },
    {
      "cell_type": "code",
      "metadata": {
        "id": "B4orBPwKkqsL",
        "colab_type": "code",
        "colab": {}
      },
      "source": [
        "cmap = mpl.colors.ListedColormap(['w', 'g','#D3D3D3','b','c'])"
      ],
      "execution_count": 120,
      "outputs": []
    },
    {
      "cell_type": "code",
      "metadata": {
        "id": "4-_ORYCb3gii",
        "colab_type": "code",
        "colab": {}
      },
      "source": [
        "plt.imshow(lab,cmap=cmap)"
      ],
      "execution_count": null,
      "outputs": []
    }
  ]
}